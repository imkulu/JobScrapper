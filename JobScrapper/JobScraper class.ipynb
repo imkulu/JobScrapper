{
 "cells": [
  {
   "cell_type": "code",
   "execution_count": null,
   "metadata": {},
   "outputs": [],
   "source": [
    "import requests\n",
    "from bs4 import BeautifulSoup as bs\n",
    "from urllib.request import urlopen as uReq\n",
    "from selenium import webdriver\n",
    "\n",
    "\n",
    "firefox_options = webdriver.FirefoxOptions()\n",
    "firefox_options.add_argument('--no-sandbox')\n",
    "firefox_options.add_argument('--headless')\n",
    "firefox_options.add_argument('window-size=1920,1080');\n",
    "firefox_options.add_argument('--disable-gpu')\n",
    "driver = webdriver.Firefox(firefox_options=firefox_options)"
   ]
  },
  {
   "cell_type": "code",
   "execution_count": null,
   "metadata": {},
   "outputs": [],
   "source": [
    "test_url=\"https://www.monsterindia.com/srp/results?query=data%20scientist&searchId=754af010-3ca4-4df6-bbc6-eb3c88da1f77\""
   ]
  },
  {
   "cell_type": "code",
   "execution_count": null,
   "metadata": {},
   "outputs": [],
   "source": [
    "uClient = uReq(test_url) # requesting the webpage from the internet\n",
    "mosnter_Page = uClient.read() # reading the webpage\n",
    "uClient.close() "
   ]
  },
  {
   "cell_type": "code",
   "execution_count": null,
   "metadata": {},
   "outputs": [],
   "source": [
    "monster_html = bs(mosnter_Page, \"html.parser\") # parsing the webpage as HTML"
   ]
  },
  {
   "cell_type": "code",
   "execution_count": null,
   "metadata": {},
   "outputs": [],
   "source": [
    "monster_html"
   ]
  },
  {
   "cell_type": "code",
   "execution_count": null,
   "metadata": {},
   "outputs": [],
   "source": [
    "monster_url = \"https://www.monsterindia.com/srp/results?query=Data Scientist\"\n",
    "driver.get(monster_url)\n",
    "driver.implicitly_wait(30)\n",
    "source = driver.page_source"
   ]
  },
  {
   "cell_type": "code",
   "execution_count": null,
   "metadata": {},
   "outputs": [],
   "source": [
    "html = bs(source, \"html.parser\")  # parsing the webpage as HTML\n",
    "\n",
    "#print(html)\n",
    "\n",
    "bigboxes = html.findAll(\"div\", {\n",
    "                    \"class\": \"card-apply-content\"})"
   ]
  },
  {
   "cell_type": "code",
   "execution_count": null,
   "metadata": {},
   "outputs": [],
   "source": [
    "job_link=\"https:\"+bigboxes[0].find(\"div\", {\n",
    "                    \"class\": \"job-tittle\"}).h3.a['href']\n",
    "job_link"
   ]
  },
  {
   "cell_type": "code",
   "execution_count": null,
   "metadata": {},
   "outputs": [],
   "source": [
    "job_title=bigboxes[0].find(\"div\", {\n",
    "                    \"class\": \"job-tittle\"}).h3.a.text\n",
    "\n",
    "job_title"
   ]
  },
  {
   "cell_type": "code",
   "execution_count": null,
   "metadata": {},
   "outputs": [],
   "source": [
    "company_name=bigboxes[0].find(\"div\", {\n",
    "                    \"class\": \"job-tittle\"}).span.a.text\n",
    "company_name"
   ]
  },
  {
   "cell_type": "code",
   "execution_count": null,
   "metadata": {},
   "outputs": [],
   "source": [
    "job_location=bigboxes[0].find(\"div\", {\n",
    "                    \"class\": \"job-tittle\"}).div.span.small.text.strip()\n",
    "job_location"
   ]
  },
  {
   "cell_type": "code",
   "execution_count": null,
   "metadata": {},
   "outputs": [],
   "source": [
    "skill_box=bigboxes[0].find(\"p\",{\"class\":\"descrip-skills\"}).findAll(\"span\",{\"class\":\"grey-link\"})"
   ]
  },
  {
   "cell_type": "code",
   "execution_count": null,
   "metadata": {},
   "outputs": [],
   "source": [
    "for skill in skill_box:\n",
    "    print(skill.a.text.strip())"
   ]
  },
  {
   "cell_type": "code",
   "execution_count": null,
   "metadata": {},
   "outputs": [],
   "source": [
    "job_posting_time=html.findAll(\"div\",{\"class\":\"card-panel apply-panel job-apply-card\"})[0].findAll(\"div\",{\"class\":\"card-footer apply-footer no-bdr\"})[0].span.text.strip()\n",
    "job_posting_time"
   ]
  }
 ],
 "metadata": {
  "kernelspec": {
   "display_name": "Python 3",
   "language": "python",
   "name": "python3"
  },
  "language_info": {
   "codemirror_mode": {
    "name": "ipython",
    "version": 3
   },
   "file_extension": ".py",
   "mimetype": "text/x-python",
   "name": "python",
   "nbconvert_exporter": "python",
   "pygments_lexer": "ipython3",
   "version": "3.7.6"
  }
 },
 "nbformat": 4,
 "nbformat_minor": 2
}
